{
 "cells": [
  {
   "cell_type": "code",
   "execution_count": 1,
   "id": "85205f52-5f19-4509-ae69-aa9a038bfeac",
   "metadata": {},
   "outputs": [],
   "source": [
    "from top_secret import whisper"
   ]
  },
  {
   "cell_type": "code",
   "execution_count": 2,
   "id": "51bc7d4c-0858-4acc-8743-76da969a7f0b",
   "metadata": {},
   "outputs": [
    {
     "name": "stdout",
     "output_type": "stream",
     "text": [
      "I can tell you but I'd have to kill you\n"
     ]
    }
   ],
   "source": [
    "print(whisper)"
   ]
  },
  {
   "cell_type": "code",
   "execution_count": null,
   "id": "53cd4d9b-8579-458e-a0c7-ba41117274fa",
   "metadata": {},
   "outputs": [],
   "source": []
  }
 ],
 "metadata": {
  "kernelspec": {
   "display_name": "Python 3",
   "language": "python",
   "name": "python3"
  },
  "language_info": {
   "codemirror_mode": {
    "name": "ipython",
    "version": 3
   },
   "file_extension": ".py",
   "mimetype": "text/x-python",
   "name": "python",
   "nbconvert_exporter": "python",
   "pygments_lexer": "ipython3",
   "version": "3.9.4"
  }
 },
 "nbformat": 4,
 "nbformat_minor": 5
}
