{
 "cells": [
  {
   "cell_type": "code",
   "execution_count": 2,
   "id": "259b4a0e-ed74-4efe-b3c3-3182bb842cd4",
   "metadata": {},
   "outputs": [],
   "source": [
    "from secret import myparam"
   ]
  },
  {
   "cell_type": "code",
   "execution_count": 3,
   "id": "fd72a569-3b59-4132-bb34-dd46b773e0e6",
   "metadata": {},
   "outputs": [
    {
     "name": "stdout",
     "output_type": "stream",
     "text": [
      "this is a test\n",
      "Shhh..this is a secret.\n"
     ]
    }
   ],
   "source": [
    "print(\"this is a test\")\n",
    "print(myparam)"
   ]
  },
  {
   "cell_type": "code",
   "execution_count": null,
   "id": "8539ba28-20ab-4559-91d4-b5ec5613206a",
   "metadata": {},
   "outputs": [],
   "source": []
  }
 ],
 "metadata": {
  "kernelspec": {
   "display_name": "Python 3",
   "language": "python",
   "name": "python3"
  },
  "language_info": {
   "codemirror_mode": {
    "name": "ipython",
    "version": 3
   },
   "file_extension": ".py",
   "mimetype": "text/x-python",
   "name": "python",
   "nbconvert_exporter": "python",
   "pygments_lexer": "ipython3",
   "version": "3.9.4"
  }
 },
 "nbformat": 4,
 "nbformat_minor": 5
}
